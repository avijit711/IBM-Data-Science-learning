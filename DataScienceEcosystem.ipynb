{
  "nbformat": 4,
  "nbformat_minor": 0,
  "metadata": {
    "colab": {
      "provenance": []
    },
    "kernelspec": {
      "name": "python3",
      "display_name": "Python 3"
    },
    "language_info": {
      "name": "python"
    }
  },
  "cells": [
    {
      "cell_type": "markdown",
      "source": [
        "# Data Science Tools and Ecosystem"
      ],
      "metadata": {
        "id": "dYZyx4hlYWNp"
      }
    },
    {
      "cell_type": "markdown",
      "source": [
        "In this notebook, Data Science Tools and Ecosystem are summarized."
      ],
      "metadata": {
        "id": "7OPnAReWZJQ4"
      }
    },
    {
      "cell_type": "markdown",
      "source": [
        "**Objectives:**\n",
        "*  List popular languages for Data Science\n",
        "*  List commonly used data science libraries\n",
        "*  evaluating arithmetic expressions in Python\n",
        "* Commonly used Data Science tools\n",
        "\n",
        "\n"
      ],
      "metadata": {
        "id": "jEC1PUj-dS_4"
      }
    },
    {
      "cell_type": "markdown",
      "source": [
        "Some of the popular languages that Data Scientists use are:\n",
        "1. Python\n",
        "2. R\n",
        "3. Java\n",
        "4. Javascript\n",
        "5. C++"
      ],
      "metadata": {
        "id": "Pq7yIoMOZep0"
      }
    },
    {
      "cell_type": "markdown",
      "source": [
        "Some of the commonly used libraries used by Data Scientists include:\n",
        "1. NumPy\n",
        "2. Pandas\n",
        "3. Matplotlib\n",
        "4. SciPy"
      ],
      "metadata": {
        "id": "n00HrI8NZ7wu"
      }
    },
    {
      "cell_type": "markdown",
      "source": [
        "| Data Science Tools |\n",
        "| ------ |\n",
        "| Jupyter Notebook |\n",
        "| Google Colab |\n",
        "| VS Code |"
      ],
      "metadata": {
        "id": "hhw2iZcObQyc"
      }
    },
    {
      "cell_type": "markdown",
      "source": [
        "### Below are a few examples of evaluating arithmetic expressions in Python"
      ],
      "metadata": {
        "id": "yH5Ggsjmb49h"
      }
    },
    {
      "cell_type": "code",
      "source": [
        "# This a simple arithmetic expression to mutiply then add integers\n",
        "(3*4)+5"
      ],
      "metadata": {
        "colab": {
          "base_uri": "https://localhost:8080/"
        },
        "id": "qGyNYjcYcK4J",
        "outputId": "b45b2dff-8a5f-45f5-b57c-a696a08a4dc8"
      },
      "execution_count": 1,
      "outputs": [
        {
          "output_type": "execute_result",
          "data": {
            "text/plain": [
              "17"
            ]
          },
          "metadata": {},
          "execution_count": 1
        }
      ]
    },
    {
      "cell_type": "code",
      "source": [
        "# This will convert 200 minutes to hours by diving by 60\n",
        "200/6"
      ],
      "metadata": {
        "colab": {
          "base_uri": "https://localhost:8080/"
        },
        "id": "Xkra2P7EcnIO",
        "outputId": "8b8437be-1fd0-4c5d-85cb-04aeeef9f88c"
      },
      "execution_count": 2,
      "outputs": [
        {
          "output_type": "execute_result",
          "data": {
            "text/plain": [
              "33.333333333333336"
            ]
          },
          "metadata": {},
          "execution_count": 2
        }
      ]
    },
    {
      "cell_type": "markdown",
      "source": [
        "## Author\n",
        "Avijit Biswas"
      ],
      "metadata": {
        "id": "bQPzfzA8efGR"
      }
    }
  ]
}